{
  "nbformat": 4,
  "nbformat_minor": 0,
  "metadata": {
    "colab": {
      "provenance": []
    },
    "kernelspec": {
      "name": "python3",
      "display_name": "Python 3"
    },
    "language_info": {
      "name": "python"
    }
  },
  "cells": [
    {
      "cell_type": "markdown",
      "source": [
        "#**Import Text file using Context Manager**"
      ],
      "metadata": {
        "id": "baqK9Obq2HnL"
      }
    },
    {
      "cell_type": "code",
      "execution_count": null,
      "metadata": {
        "colab": {
          "base_uri": "https://localhost:8080/"
        },
        "id": "rjwWleKY0pvV",
        "outputId": "e863aea4-9620-4f99-fb97-e104168d3dfd"
      },
      "outputs": [
        {
          "output_type": "stream",
          "name": "stdout",
          "text": [
            "Time\tPercent\n",
            "99\t0.067\n",
            "99\t0.133\n",
            "99\t0.067\n",
            "99\t0\n",
            "99\t0\n",
            "0\t0.5\n",
            "0\t0.467\n",
            "0\t0.857\n",
            "0\t0.5\n",
            "0\t0.357\n",
            "0\t0.533\n",
            "5\t0.467\n",
            "5\t0.467\n",
            "5\t0.125\n",
            "5\t0.4\n",
            "5\t0.214\n",
            "5\t0.4\n",
            "10\t0.067\n",
            "10\t0.067\n",
            "10\t0.333\n",
            "10\t0.333\n",
            "10\t0.133\n",
            "10\t0.133\n",
            "15\t0.267\n",
            "15\t0.286\n",
            "15\t0.333\n",
            "15\t0.214\n",
            "15\t0\n",
            "15\t0\n",
            "20\t0.267\n",
            "20\t0.2\n",
            "20\t0.267\n",
            "20\t0.437\n",
            "20\t0.077\n",
            "20\t0.067\n",
            "25\t0.133\n",
            "25\t0.267\n",
            "25\t0.412\n",
            "25\t0\n",
            "25\t0.067\n",
            "25\t0.133\n",
            "30\t0\n",
            "30\t0.071\n",
            "30\t0\n",
            "30\t0.067\n",
            "30\t0.067\n",
            "30\t0.133\n"
          ]
        }
      ],
      "source": [
        "with open('/content/drive/MyDrive/DataCamp/Data/seaslug.txt','r') as file:\n",
        "  print(file.read())"
      ]
    },
    {
      "cell_type": "markdown",
      "source": [
        "# **Read text file line by line**"
      ],
      "metadata": {
        "id": "eo8pjQ9L2oPe"
      }
    },
    {
      "cell_type": "code",
      "source": [
        "with open('/content/drive/MyDrive/DataCamp/Data/seaslug.txt','r') as file:\n",
        "  print(file.readline())\n",
        "  print(file.readline())\n",
        "  print(file.readline())\n",
        "  print(file.readline())\n",
        "  print(file.readline())"
      ],
      "metadata": {
        "colab": {
          "base_uri": "https://localhost:8080/"
        },
        "id": "ptaYVhbF2sMH",
        "outputId": "1e29dc32-3af9-4a8e-a7e4-5d44a595d0f0"
      },
      "execution_count": null,
      "outputs": [
        {
          "output_type": "stream",
          "name": "stdout",
          "text": [
            "Time\tPercent\n",
            "\n",
            "99\t0.067\n",
            "\n",
            "99\t0.133\n",
            "\n",
            "99\t0.067\n",
            "\n",
            "99\t0\n",
            "\n"
          ]
        }
      ]
    },
    {
      "cell_type": "markdown",
      "source": [
        "# **Printing text file using for loop**"
      ],
      "metadata": {
        "id": "LbAKRqRR4DAw"
      }
    },
    {
      "cell_type": "code",
      "source": [
        "with open('/content/drive/MyDrive/DataCamp/Data/seaslug.txt','r') as file:\n",
        "    for line in file:\n",
        "        print(line)"
      ],
      "metadata": {
        "colab": {
          "base_uri": "https://localhost:8080/"
        },
        "id": "2mfeP713237K",
        "outputId": "99e9f2a7-7cd9-4a54-e71e-4969c1869af9"
      },
      "execution_count": null,
      "outputs": [
        {
          "output_type": "stream",
          "name": "stdout",
          "text": [
            "Time\tPercent\n",
            "\n",
            "99\t0.067\n",
            "\n",
            "99\t0.133\n",
            "\n",
            "99\t0.067\n",
            "\n",
            "99\t0\n",
            "\n",
            "99\t0\n",
            "\n",
            "0\t0.5\n",
            "\n",
            "0\t0.467\n",
            "\n",
            "0\t0.857\n",
            "\n",
            "0\t0.5\n",
            "\n",
            "0\t0.357\n",
            "\n",
            "0\t0.533\n",
            "\n",
            "5\t0.467\n",
            "\n",
            "5\t0.467\n",
            "\n",
            "5\t0.125\n",
            "\n",
            "5\t0.4\n",
            "\n",
            "5\t0.214\n",
            "\n",
            "5\t0.4\n",
            "\n",
            "10\t0.067\n",
            "\n",
            "10\t0.067\n",
            "\n",
            "10\t0.333\n",
            "\n",
            "10\t0.333\n",
            "\n",
            "10\t0.133\n",
            "\n",
            "10\t0.133\n",
            "\n",
            "15\t0.267\n",
            "\n",
            "15\t0.286\n",
            "\n",
            "15\t0.333\n",
            "\n",
            "15\t0.214\n",
            "\n",
            "15\t0\n",
            "\n",
            "15\t0\n",
            "\n",
            "20\t0.267\n",
            "\n",
            "20\t0.2\n",
            "\n",
            "20\t0.267\n",
            "\n",
            "20\t0.437\n",
            "\n",
            "20\t0.077\n",
            "\n",
            "20\t0.067\n",
            "\n",
            "25\t0.133\n",
            "\n",
            "25\t0.267\n",
            "\n",
            "25\t0.412\n",
            "\n",
            "25\t0\n",
            "\n",
            "25\t0.067\n",
            "\n",
            "25\t0.133\n",
            "\n",
            "30\t0\n",
            "\n",
            "30\t0.071\n",
            "\n",
            "30\t0\n",
            "\n",
            "30\t0.067\n",
            "\n",
            "30\t0.067\n",
            "\n",
            "30\t0.133\n"
          ]
        }
      ]
    },
    {
      "cell_type": "markdown",
      "source": [
        "# **Printing first 10 lines**"
      ],
      "metadata": {
        "id": "GXBfjV-p39N8"
      }
    },
    {
      "cell_type": "code",
      "source": [
        "with open('/content/drive/MyDrive/DataCamp/Data/seaslug.txt','r') as file:\n",
        "    lines = file.readlines()\n",
        "    for line in lines[:10]:\n",
        "        print(line)"
      ],
      "metadata": {
        "colab": {
          "base_uri": "https://localhost:8080/"
        },
        "id": "hMJjOytj3x4d",
        "outputId": "dd3855e5-9704-45eb-bf76-c59f43a6115a"
      },
      "execution_count": null,
      "outputs": [
        {
          "output_type": "stream",
          "name": "stdout",
          "text": [
            "Time\tPercent\n",
            "\n",
            "99\t0.067\n",
            "\n",
            "99\t0.133\n",
            "\n",
            "99\t0.067\n",
            "\n",
            "99\t0\n",
            "\n",
            "99\t0\n",
            "\n",
            "0\t0.5\n",
            "\n",
            "0\t0.467\n",
            "\n",
            "0\t0.857\n",
            "\n",
            "0\t0.5\n",
            "\n"
          ]
        }
      ]
    }
  ]
}