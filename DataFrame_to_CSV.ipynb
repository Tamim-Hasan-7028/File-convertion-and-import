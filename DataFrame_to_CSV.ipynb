{
  "nbformat": 4,
  "nbformat_minor": 0,
  "metadata": {
    "colab": {
      "provenance": []
    },
    "kernelspec": {
      "name": "python3",
      "display_name": "Python 3"
    },
    "language_info": {
      "name": "python"
    }
  },
  "cells": [
    {
      "cell_type": "code",
      "execution_count": 1,
      "metadata": {
        "colab": {
          "base_uri": "https://localhost:8080/"
        },
        "id": "S8WBDMgZJdWC",
        "outputId": "e81aae3e-347d-4316-9dcd-0911ec5bcdb2"
      },
      "outputs": [
        {
          "output_type": "stream",
          "name": "stdout",
          "text": [
            "    Name  ID  Score\n",
            "0    Ovi  20   3.20\n",
            "1  Rizvi  41   3.65\n",
            "2  Tamim  17   3.35\n",
            "3   Azan  38   3.10\n",
            "4  Rifat  40   3.60\n",
            "5    Ovi  20   3.20\n",
            "6  Sagor  10   3.50\n",
            "7  Sahin  29   3.38\n",
            "8  Sagor  30   3.50\n"
          ]
        }
      ],
      "source": [
        "import pandas as pd\n",
        "data={'Name':['Ovi','Rizvi','Tamim','Azan','Rifat','Ovi','Sagor','Sahin','Sagor'],\n",
        "      'ID':[20,41,17,38,40,20,10,29,30],\n",
        "      'Score':[3.2,3.65,3.35,3.1,3.6,3.2,3.5,3.38,3.5]}\n",
        "Result=pd.DataFrame(data)\n",
        "print(Result)\n"
      ]
    },
    {
      "cell_type": "code",
      "source": [
        "Result.to_csv('Result.csv')"
      ],
      "metadata": {
        "id": "pV2-iGV8J6cj"
      },
      "execution_count": 2,
      "outputs": []
    }
  ]
}