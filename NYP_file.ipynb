{
  "nbformat": 4,
  "nbformat_minor": 0,
  "metadata": {
    "colab": {
      "provenance": []
    },
    "kernelspec": {
      "name": "python3",
      "display_name": "Python 3"
    },
    "language_info": {
      "name": "python"
    }
  },
  "cells": [
    {
      "cell_type": "markdown",
      "source": [
        "## We can import array by this code.\n",
        "\n",
        "## Suppose, we want to import sudoku file which is an array."
      ],
      "metadata": {
        "id": "HmySHMs_GMXi"
      }
    },
    {
      "cell_type": "code",
      "source": [
        "from google.colab import drive\n",
        "drive.mount('/content/drive')"
      ],
      "metadata": {
        "colab": {
          "base_uri": "https://localhost:8080/"
        },
        "id": "q6yxrmk4_FHd",
        "outputId": "14790578-0bf8-4368-e9ea-9b384a3e7c67"
      },
      "execution_count": 1,
      "outputs": [
        {
          "output_type": "stream",
          "name": "stdout",
          "text": [
            "Mounted at /content/drive\n"
          ]
        }
      ]
    },
    {
      "cell_type": "code",
      "execution_count": 3,
      "metadata": {
        "id": "q2dqltHl2E09"
      },
      "outputs": [],
      "source": [
        "import numpy as np"
      ]
    },
    {
      "cell_type": "code",
      "source": [
        "with open('/content/drive/MyDrive/DataCamp/Data/NYP/sudoku_solution.npy','rb') as f:\n",
        "          suduko=np.load(f)\n",
        "print(suduko)"
      ],
      "metadata": {
        "colab": {
          "base_uri": "https://localhost:8080/"
        },
        "id": "THNy9Q2M2XA8",
        "outputId": "ce68970d-a148-4365-aa04-0a4b7e52b2c4"
      },
      "execution_count": 4,
      "outputs": [
        {
          "output_type": "stream",
          "name": "stdout",
          "text": [
            "[[3 2 5 8 4 9 7 6 1]\n",
            " [9 7 1 2 6 5 8 4 3]\n",
            " [4 3 6 1 9 2 5 8 7]\n",
            " [1 9 8 6 5 7 4 3 2]\n",
            " [2 5 7 4 8 3 9 1 6]\n",
            " [6 8 9 7 3 4 1 2 5]\n",
            " [7 1 3 5 2 8 6 9 4]\n",
            " [5 4 2 9 1 6 3 7 8]]\n"
          ]
        }
      ]
    },
    {
      "cell_type": "markdown",
      "source": [
        "## Now, we created a list and converted into an array and we will save it as \"new an.npy\" file name."
      ],
      "metadata": {
        "id": "NjpeZU-jCqtd"
      }
    },
    {
      "cell_type": "code",
      "source": [
        "a=[3,5,6,4,6,6]\n",
        "an=np.array(a)\n",
        "an"
      ],
      "metadata": {
        "colab": {
          "base_uri": "https://localhost:8080/"
        },
        "id": "CrZP9DCGBWmC",
        "outputId": "a8a1302b-b599-4e1a-8852-d668f66765a8"
      },
      "execution_count": 8,
      "outputs": [
        {
          "output_type": "execute_result",
          "data": {
            "text/plain": [
              "array([3, 5, 6, 4, 6, 6])"
            ]
          },
          "metadata": {},
          "execution_count": 8
        }
      ]
    },
    {
      "cell_type": "code",
      "source": [
        "with open('new an.npy','wb') as f:\n",
        "    np.save(f,an)"
      ],
      "metadata": {
        "id": "N4W-oBO4CFLm"
      },
      "execution_count": 9,
      "outputs": []
    }
  ]
}