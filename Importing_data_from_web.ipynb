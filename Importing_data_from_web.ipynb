{
  "nbformat": 4,
  "nbformat_minor": 0,
  "metadata": {
    "colab": {
      "provenance": []
    },
    "kernelspec": {
      "name": "python3",
      "display_name": "Python 3"
    },
    "language_info": {
      "name": "python"
    }
  },
  "cells": [
    {
      "cell_type": "markdown",
      "source": [
        "## Importing and saving (in our system folder) a dataset directly from a website url."
      ],
      "metadata": {
        "id": "yIn32BnCEQie"
      }
    },
    {
      "cell_type": "code",
      "execution_count": 2,
      "metadata": {
        "colab": {
          "base_uri": "https://localhost:8080/",
          "height": 206
        },
        "id": "xxP-Xfw3DCDc",
        "outputId": "a195cbb9-2d91-41a3-f4ea-fe12656a2ab8"
      },
      "outputs": [
        {
          "output_type": "execute_result",
          "data": {
            "text/plain": [
              "   fixed acidity  volatile acidity  citric acid  residual sugar  chlorides  \\\n",
              "0            7.4              0.70         0.00             1.9      0.076   \n",
              "1            7.8              0.88         0.00             2.6      0.098   \n",
              "2            7.8              0.76         0.04             2.3      0.092   \n",
              "3           11.2              0.28         0.56             1.9      0.075   \n",
              "4            7.4              0.70         0.00             1.9      0.076   \n",
              "\n",
              "   free sulfur dioxide  total sulfur dioxide  density    pH  sulphates  \\\n",
              "0                 11.0                  34.0   0.9978  3.51       0.56   \n",
              "1                 25.0                  67.0   0.9968  3.20       0.68   \n",
              "2                 15.0                  54.0   0.9970  3.26       0.65   \n",
              "3                 17.0                  60.0   0.9980  3.16       0.58   \n",
              "4                 11.0                  34.0   0.9978  3.51       0.56   \n",
              "\n",
              "   alcohol  quality  \n",
              "0      9.4        5  \n",
              "1      9.8        5  \n",
              "2      9.8        5  \n",
              "3      9.8        6  \n",
              "4      9.4        5  "
            ],
            "text/html": [
              "\n",
              "  <div id=\"df-a9d93aaf-8d7f-4d7d-9ea4-d6045239f8ca\">\n",
              "    <div class=\"colab-df-container\">\n",
              "      <div>\n",
              "<style scoped>\n",
              "    .dataframe tbody tr th:only-of-type {\n",
              "        vertical-align: middle;\n",
              "    }\n",
              "\n",
              "    .dataframe tbody tr th {\n",
              "        vertical-align: top;\n",
              "    }\n",
              "\n",
              "    .dataframe thead th {\n",
              "        text-align: right;\n",
              "    }\n",
              "</style>\n",
              "<table border=\"1\" class=\"dataframe\">\n",
              "  <thead>\n",
              "    <tr style=\"text-align: right;\">\n",
              "      <th></th>\n",
              "      <th>fixed acidity</th>\n",
              "      <th>volatile acidity</th>\n",
              "      <th>citric acid</th>\n",
              "      <th>residual sugar</th>\n",
              "      <th>chlorides</th>\n",
              "      <th>free sulfur dioxide</th>\n",
              "      <th>total sulfur dioxide</th>\n",
              "      <th>density</th>\n",
              "      <th>pH</th>\n",
              "      <th>sulphates</th>\n",
              "      <th>alcohol</th>\n",
              "      <th>quality</th>\n",
              "    </tr>\n",
              "  </thead>\n",
              "  <tbody>\n",
              "    <tr>\n",
              "      <th>0</th>\n",
              "      <td>7.4</td>\n",
              "      <td>0.70</td>\n",
              "      <td>0.00</td>\n",
              "      <td>1.9</td>\n",
              "      <td>0.076</td>\n",
              "      <td>11.0</td>\n",
              "      <td>34.0</td>\n",
              "      <td>0.9978</td>\n",
              "      <td>3.51</td>\n",
              "      <td>0.56</td>\n",
              "      <td>9.4</td>\n",
              "      <td>5</td>\n",
              "    </tr>\n",
              "    <tr>\n",
              "      <th>1</th>\n",
              "      <td>7.8</td>\n",
              "      <td>0.88</td>\n",
              "      <td>0.00</td>\n",
              "      <td>2.6</td>\n",
              "      <td>0.098</td>\n",
              "      <td>25.0</td>\n",
              "      <td>67.0</td>\n",
              "      <td>0.9968</td>\n",
              "      <td>3.20</td>\n",
              "      <td>0.68</td>\n",
              "      <td>9.8</td>\n",
              "      <td>5</td>\n",
              "    </tr>\n",
              "    <tr>\n",
              "      <th>2</th>\n",
              "      <td>7.8</td>\n",
              "      <td>0.76</td>\n",
              "      <td>0.04</td>\n",
              "      <td>2.3</td>\n",
              "      <td>0.092</td>\n",
              "      <td>15.0</td>\n",
              "      <td>54.0</td>\n",
              "      <td>0.9970</td>\n",
              "      <td>3.26</td>\n",
              "      <td>0.65</td>\n",
              "      <td>9.8</td>\n",
              "      <td>5</td>\n",
              "    </tr>\n",
              "    <tr>\n",
              "      <th>3</th>\n",
              "      <td>11.2</td>\n",
              "      <td>0.28</td>\n",
              "      <td>0.56</td>\n",
              "      <td>1.9</td>\n",
              "      <td>0.075</td>\n",
              "      <td>17.0</td>\n",
              "      <td>60.0</td>\n",
              "      <td>0.9980</td>\n",
              "      <td>3.16</td>\n",
              "      <td>0.58</td>\n",
              "      <td>9.8</td>\n",
              "      <td>6</td>\n",
              "    </tr>\n",
              "    <tr>\n",
              "      <th>4</th>\n",
              "      <td>7.4</td>\n",
              "      <td>0.70</td>\n",
              "      <td>0.00</td>\n",
              "      <td>1.9</td>\n",
              "      <td>0.076</td>\n",
              "      <td>11.0</td>\n",
              "      <td>34.0</td>\n",
              "      <td>0.9978</td>\n",
              "      <td>3.51</td>\n",
              "      <td>0.56</td>\n",
              "      <td>9.4</td>\n",
              "      <td>5</td>\n",
              "    </tr>\n",
              "  </tbody>\n",
              "</table>\n",
              "</div>\n",
              "      <button class=\"colab-df-convert\" onclick=\"convertToInteractive('df-a9d93aaf-8d7f-4d7d-9ea4-d6045239f8ca')\"\n",
              "              title=\"Convert this dataframe to an interactive table.\"\n",
              "              style=\"display:none;\">\n",
              "        \n",
              "  <svg xmlns=\"http://www.w3.org/2000/svg\" height=\"24px\"viewBox=\"0 0 24 24\"\n",
              "       width=\"24px\">\n",
              "    <path d=\"M0 0h24v24H0V0z\" fill=\"none\"/>\n",
              "    <path d=\"M18.56 5.44l.94 2.06.94-2.06 2.06-.94-2.06-.94-.94-2.06-.94 2.06-2.06.94zm-11 1L8.5 8.5l.94-2.06 2.06-.94-2.06-.94L8.5 2.5l-.94 2.06-2.06.94zm10 10l.94 2.06.94-2.06 2.06-.94-2.06-.94-.94-2.06-.94 2.06-2.06.94z\"/><path d=\"M17.41 7.96l-1.37-1.37c-.4-.4-.92-.59-1.43-.59-.52 0-1.04.2-1.43.59L10.3 9.45l-7.72 7.72c-.78.78-.78 2.05 0 2.83L4 21.41c.39.39.9.59 1.41.59.51 0 1.02-.2 1.41-.59l7.78-7.78 2.81-2.81c.8-.78.8-2.07 0-2.86zM5.41 20L4 18.59l7.72-7.72 1.47 1.35L5.41 20z\"/>\n",
              "  </svg>\n",
              "      </button>\n",
              "      \n",
              "  <style>\n",
              "    .colab-df-container {\n",
              "      display:flex;\n",
              "      flex-wrap:wrap;\n",
              "      gap: 12px;\n",
              "    }\n",
              "\n",
              "    .colab-df-convert {\n",
              "      background-color: #E8F0FE;\n",
              "      border: none;\n",
              "      border-radius: 50%;\n",
              "      cursor: pointer;\n",
              "      display: none;\n",
              "      fill: #1967D2;\n",
              "      height: 32px;\n",
              "      padding: 0 0 0 0;\n",
              "      width: 32px;\n",
              "    }\n",
              "\n",
              "    .colab-df-convert:hover {\n",
              "      background-color: #E2EBFA;\n",
              "      box-shadow: 0px 1px 2px rgba(60, 64, 67, 0.3), 0px 1px 3px 1px rgba(60, 64, 67, 0.15);\n",
              "      fill: #174EA6;\n",
              "    }\n",
              "\n",
              "    [theme=dark] .colab-df-convert {\n",
              "      background-color: #3B4455;\n",
              "      fill: #D2E3FC;\n",
              "    }\n",
              "\n",
              "    [theme=dark] .colab-df-convert:hover {\n",
              "      background-color: #434B5C;\n",
              "      box-shadow: 0px 1px 3px 1px rgba(0, 0, 0, 0.15);\n",
              "      filter: drop-shadow(0px 1px 2px rgba(0, 0, 0, 0.3));\n",
              "      fill: #FFFFFF;\n",
              "    }\n",
              "  </style>\n",
              "\n",
              "      <script>\n",
              "        const buttonEl =\n",
              "          document.querySelector('#df-a9d93aaf-8d7f-4d7d-9ea4-d6045239f8ca button.colab-df-convert');\n",
              "        buttonEl.style.display =\n",
              "          google.colab.kernel.accessAllowed ? 'block' : 'none';\n",
              "\n",
              "        async function convertToInteractive(key) {\n",
              "          const element = document.querySelector('#df-a9d93aaf-8d7f-4d7d-9ea4-d6045239f8ca');\n",
              "          const dataTable =\n",
              "            await google.colab.kernel.invokeFunction('convertToInteractive',\n",
              "                                                     [key], {});\n",
              "          if (!dataTable) return;\n",
              "\n",
              "          const docLinkHtml = 'Like what you see? Visit the ' +\n",
              "            '<a target=\"_blank\" href=https://colab.research.google.com/notebooks/data_table.ipynb>data table notebook</a>'\n",
              "            + ' to learn more about interactive tables.';\n",
              "          element.innerHTML = '';\n",
              "          dataTable['output_type'] = 'display_data';\n",
              "          await google.colab.output.renderOutput(dataTable, element);\n",
              "          const docLink = document.createElement('div');\n",
              "          docLink.innerHTML = docLinkHtml;\n",
              "          element.appendChild(docLink);\n",
              "        }\n",
              "      </script>\n",
              "    </div>\n",
              "  </div>\n",
              "  "
            ]
          },
          "metadata": {},
          "execution_count": 2
        }
      ],
      "source": [
        "from urllib.request import urlretrieve\n",
        "import pandas as pd\n",
        "url='https://assets.datacamp.com/production/course_1606/datasets/winequality-red.csv'\n",
        "urlretrieve(url,'winequality-red.csv')                    # Save file locally\n",
        "df = pd.read_csv('winequality-red.csv', sep=';')         # Read file into a DataFrame\n",
        "df.head()"
      ]
    },
    {
      "cell_type": "markdown",
      "source": [
        "## Import and save a spreadsheet from the web"
      ],
      "metadata": {
        "id": "E1ctQQq6FvXd"
      }
    },
    {
      "cell_type": "code",
      "source": [
        "url = 'https://assets.datacamp.com/course/importing_data_into_r/latitude.xls'\n",
        "\n",
        "# Read all sheets of Excel file\n",
        "xls = pd.ExcelFile(url) \n",
        "\n",
        "#save the fle\n",
        "urlretrieve(url,'Country_war.xlsx')\n",
        "\n",
        "# Print all sheetnames from the sheet\n",
        "print(xls.sheet_names)"
      ],
      "metadata": {
        "colab": {
          "base_uri": "https://localhost:8080/"
        },
        "id": "XBKhdAPPF0zL",
        "outputId": "d6d218b7-ccb8-41ec-d81b-7f0658574fcf"
      },
      "execution_count": 13,
      "outputs": [
        {
          "output_type": "stream",
          "name": "stdout",
          "text": [
            "['1700', '1900']\n"
          ]
        }
      ]
    },
    {
      "cell_type": "markdown",
      "source": [
        "Print the head of the first sheet"
      ],
      "metadata": {
        "id": "aPxVHVNwGc47"
      }
    },
    {
      "cell_type": "code",
      "source": [
        "df1=xls.parse('1700')\n",
        "df1.head()"
      ],
      "metadata": {
        "colab": {
          "base_uri": "https://localhost:8080/",
          "height": 206
        },
        "id": "lfPs45v0GdtA",
        "outputId": "c87e1d9f-767f-46b0-bd66-47bfeba220d5"
      },
      "execution_count": 12,
      "outputs": [
        {
          "output_type": "execute_result",
          "data": {
            "text/plain": [
              "                 country       1700\n",
              "0            Afghanistan  34.565000\n",
              "1  Akrotiri and Dhekelia  34.616667\n",
              "2                Albania  41.312000\n",
              "3                Algeria  36.720000\n",
              "4         American Samoa -14.307000"
            ],
            "text/html": [
              "\n",
              "  <div id=\"df-b8350e82-41a4-4f14-8b19-4cee87279699\">\n",
              "    <div class=\"colab-df-container\">\n",
              "      <div>\n",
              "<style scoped>\n",
              "    .dataframe tbody tr th:only-of-type {\n",
              "        vertical-align: middle;\n",
              "    }\n",
              "\n",
              "    .dataframe tbody tr th {\n",
              "        vertical-align: top;\n",
              "    }\n",
              "\n",
              "    .dataframe thead th {\n",
              "        text-align: right;\n",
              "    }\n",
              "</style>\n",
              "<table border=\"1\" class=\"dataframe\">\n",
              "  <thead>\n",
              "    <tr style=\"text-align: right;\">\n",
              "      <th></th>\n",
              "      <th>country</th>\n",
              "      <th>1700</th>\n",
              "    </tr>\n",
              "  </thead>\n",
              "  <tbody>\n",
              "    <tr>\n",
              "      <th>0</th>\n",
              "      <td>Afghanistan</td>\n",
              "      <td>34.565000</td>\n",
              "    </tr>\n",
              "    <tr>\n",
              "      <th>1</th>\n",
              "      <td>Akrotiri and Dhekelia</td>\n",
              "      <td>34.616667</td>\n",
              "    </tr>\n",
              "    <tr>\n",
              "      <th>2</th>\n",
              "      <td>Albania</td>\n",
              "      <td>41.312000</td>\n",
              "    </tr>\n",
              "    <tr>\n",
              "      <th>3</th>\n",
              "      <td>Algeria</td>\n",
              "      <td>36.720000</td>\n",
              "    </tr>\n",
              "    <tr>\n",
              "      <th>4</th>\n",
              "      <td>American Samoa</td>\n",
              "      <td>-14.307000</td>\n",
              "    </tr>\n",
              "  </tbody>\n",
              "</table>\n",
              "</div>\n",
              "      <button class=\"colab-df-convert\" onclick=\"convertToInteractive('df-b8350e82-41a4-4f14-8b19-4cee87279699')\"\n",
              "              title=\"Convert this dataframe to an interactive table.\"\n",
              "              style=\"display:none;\">\n",
              "        \n",
              "  <svg xmlns=\"http://www.w3.org/2000/svg\" height=\"24px\"viewBox=\"0 0 24 24\"\n",
              "       width=\"24px\">\n",
              "    <path d=\"M0 0h24v24H0V0z\" fill=\"none\"/>\n",
              "    <path d=\"M18.56 5.44l.94 2.06.94-2.06 2.06-.94-2.06-.94-.94-2.06-.94 2.06-2.06.94zm-11 1L8.5 8.5l.94-2.06 2.06-.94-2.06-.94L8.5 2.5l-.94 2.06-2.06.94zm10 10l.94 2.06.94-2.06 2.06-.94-2.06-.94-.94-2.06-.94 2.06-2.06.94z\"/><path d=\"M17.41 7.96l-1.37-1.37c-.4-.4-.92-.59-1.43-.59-.52 0-1.04.2-1.43.59L10.3 9.45l-7.72 7.72c-.78.78-.78 2.05 0 2.83L4 21.41c.39.39.9.59 1.41.59.51 0 1.02-.2 1.41-.59l7.78-7.78 2.81-2.81c.8-.78.8-2.07 0-2.86zM5.41 20L4 18.59l7.72-7.72 1.47 1.35L5.41 20z\"/>\n",
              "  </svg>\n",
              "      </button>\n",
              "      \n",
              "  <style>\n",
              "    .colab-df-container {\n",
              "      display:flex;\n",
              "      flex-wrap:wrap;\n",
              "      gap: 12px;\n",
              "    }\n",
              "\n",
              "    .colab-df-convert {\n",
              "      background-color: #E8F0FE;\n",
              "      border: none;\n",
              "      border-radius: 50%;\n",
              "      cursor: pointer;\n",
              "      display: none;\n",
              "      fill: #1967D2;\n",
              "      height: 32px;\n",
              "      padding: 0 0 0 0;\n",
              "      width: 32px;\n",
              "    }\n",
              "\n",
              "    .colab-df-convert:hover {\n",
              "      background-color: #E2EBFA;\n",
              "      box-shadow: 0px 1px 2px rgba(60, 64, 67, 0.3), 0px 1px 3px 1px rgba(60, 64, 67, 0.15);\n",
              "      fill: #174EA6;\n",
              "    }\n",
              "\n",
              "    [theme=dark] .colab-df-convert {\n",
              "      background-color: #3B4455;\n",
              "      fill: #D2E3FC;\n",
              "    }\n",
              "\n",
              "    [theme=dark] .colab-df-convert:hover {\n",
              "      background-color: #434B5C;\n",
              "      box-shadow: 0px 1px 3px 1px rgba(0, 0, 0, 0.15);\n",
              "      filter: drop-shadow(0px 1px 2px rgba(0, 0, 0, 0.3));\n",
              "      fill: #FFFFFF;\n",
              "    }\n",
              "  </style>\n",
              "\n",
              "      <script>\n",
              "        const buttonEl =\n",
              "          document.querySelector('#df-b8350e82-41a4-4f14-8b19-4cee87279699 button.colab-df-convert');\n",
              "        buttonEl.style.display =\n",
              "          google.colab.kernel.accessAllowed ? 'block' : 'none';\n",
              "\n",
              "        async function convertToInteractive(key) {\n",
              "          const element = document.querySelector('#df-b8350e82-41a4-4f14-8b19-4cee87279699');\n",
              "          const dataTable =\n",
              "            await google.colab.kernel.invokeFunction('convertToInteractive',\n",
              "                                                     [key], {});\n",
              "          if (!dataTable) return;\n",
              "\n",
              "          const docLinkHtml = 'Like what you see? Visit the ' +\n",
              "            '<a target=\"_blank\" href=https://colab.research.google.com/notebooks/data_table.ipynb>data table notebook</a>'\n",
              "            + ' to learn more about interactive tables.';\n",
              "          element.innerHTML = '';\n",
              "          dataTable['output_type'] = 'display_data';\n",
              "          await google.colab.output.renderOutput(dataTable, element);\n",
              "          const docLink = document.createElement('div');\n",
              "          docLink.innerHTML = docLinkHtml;\n",
              "          element.appendChild(docLink);\n",
              "        }\n",
              "      </script>\n",
              "    </div>\n",
              "  </div>\n",
              "  "
            ]
          },
          "metadata": {},
          "execution_count": 12
        }
      ]
    },
    {
      "cell_type": "markdown",
      "source": [
        "# **Performing HTTP requests**"
      ],
      "metadata": {
        "id": "qUKP-H_JIx4g"
      }
    },
    {
      "cell_type": "markdown",
      "source": [
        "find the html code of the webpage"
      ],
      "metadata": {
        "id": "9y8axhF1JZVT"
      }
    },
    {
      "cell_type": "code",
      "source": [
        "import requests\n",
        "url=\"http://www.datacamp.com/teach/documentation\"\n",
        "\n",
        "# Packages the request, send the request and catch the response\n",
        "r=requests.get(url)\n",
        "\n",
        "# Extract the response\n",
        "txt=r.text\n",
        "\n",
        "# Print the html of the webpage\n",
        "print(txt)"
      ],
      "metadata": {
        "colab": {
          "base_uri": "https://localhost:8080/"
        },
        "id": "PJRDnLOrIzar",
        "outputId": "f133fe9c-9fd3-401f-ed9f-cd96e3aa96e4"
      },
      "execution_count": 14,
      "outputs": [
        {
          "output_type": "stream",
          "name": "stdout",
          "text": [
            "<!DOCTYPE html>\n",
            "<html lang=\"en-US\">\n",
            "<head>\n",
            "    <title>Just a moment...</title>\n",
            "    <meta http-equiv=\"Content-Type\" content=\"text/html; charset=UTF-8\">\n",
            "    <meta http-equiv=\"X-UA-Compatible\" content=\"IE=Edge\">\n",
            "    <meta name=\"robots\" content=\"noindex,nofollow\">\n",
            "    <meta name=\"viewport\" content=\"width=device-width,initial-scale=1\">\n",
            "    <link href=\"/cdn-cgi/styles/challenges.css\" rel=\"stylesheet\">\n",
            "    <meta http-equiv=\"refresh\" content=\"35\">\n",
            "\n",
            "</head>\n",
            "<body class=\"no-js\">\n",
            "    <div class=\"main-wrapper\" role=\"main\">\n",
            "    <div class=\"main-content\">\n",
            "        <h1 class=\"zone-name-title h1\">\n",
            "            <img class=\"heading-favicon\" src=\"/favicon.ico\" alt=\"Icon for www.datacamp.com\"\n",
            "                 onerror=\"this.onerror=null;this.parentNode.removeChild(this)\">\n",
            "            www.datacamp.com\n",
            "        </h1>\n",
            "        <h2 class=\"h2\" id=\"challenge-running\">\n",
            "            Checking if the site connection is secure\n",
            "        </h2>\n",
            "        <noscript>\n",
            "            <div id=\"challenge-error-title\">\n",
            "                <div class=\"h2\">\n",
            "                    <span class=\"icon-wrapper\">\n",
            "                        <div class=\"heading-icon warning-icon\"></div>\n",
            "                    </span>\n",
            "                    <span id=\"challenge-error-text\">\n",
            "                        Enable JavaScript and cookies to continue\n",
            "                    </span>\n",
            "                </div>\n",
            "            </div>\n",
            "        </noscript>\n",
            "        <div id=\"trk_jschal_js\" style=\"display:none;background-image:url('/cdn-cgi/images/trace/jsch/nojs/transparent.gif?ray=7a8e329f5fb82324')\"></div>\n",
            "        <div id=\"challenge-body-text\" class=\"core-msg spacer\">\n",
            "            www.datacamp.com needs to review the security of your connection before proceeding.\n",
            "        </div>\n",
            "        <form id=\"challenge-form\" action=\"/teach/documentation?__cf_chl_f_tk=qxLkmFCk4QzbfFTOZYBTkfilZlgtMcR25Od9_iN7IVI-1678982307-0-gaNycGzNCZA\" method=\"POST\" enctype=\"application/x-www-form-urlencoded\">\n",
            "            <input type=\"hidden\" name=\"md\" value=\"WioiuPqmjRjGp.wZllFIIwlP4_fCe2H7JDUs9U4ebPU-1678982307-0-AcLFJDT5ax_6qXj-2GJn6yhxDCamSQ2Uj7M-vHxWGtk_CsYXAIF0ZV-5IumYZFdMUPM5BQoZnmLnuu394xjT4qxoOtWsunk1RQO9PiowuTHp_6gtZZsa0C4XCRBRsyzs2JC5BFUWsmUu1-pOdno_CJZeercVyJBgKV2REwiGaAsaVxHNSLHYSI0aM3m6Eu7ZF1NYSfJERJNxPWI7riUudeZKfHXisfplmKnaK_4VeTdAxyw6BkVzhZLwqxdz1tP39Et3ripfmrLcCo75HVaZrvMFOJ9ZUKex6MS6gUKzGCJYXh4aQSvgHS0N8e1sLv18O65o-hjmkLh_9fRGK7Rfk_N33BxtyFTPRMy7fZyKKJVcHlISXsNdUOtGOTj-9S46-6a1f-Er3ANctOby0Jm_Go-k0jE33QYDOTZQl3-KHBrmmxAbI-6Uk2xQ-mBv07LU-1u4jn7gxZrQJ1p4XkxgL-EjfgEO3zyYtQlj8RQ8eBAc-OsmT4xOEOg77ZTYYmJEFvwKDq1hVpGDZaUSwFbchmVlLnin0dW4TnFMWFhkvg_zcU7w763xZyOeL71FmkHHQWkwWw-qYspGBQGMACW9mksEd2-We3XxrStU5K6RLW0qX1RT4U98gMs8giJQOVn1fllRNAys6VKqiz3Y1RvwBkUHhUAEDy05F_tC8dwiEghbw_uVCaTxqHbsVUZ02_H2RmaExGcmfB6HjpMEru_rIBC1mNrCUY1wEQiqt2pHeWe-izq6Bchzs8AeWfPI2Qr5tiKwoig5ngNXtoxio_wODaXEjsvh_lewXIBvCL7n7GacGQdstJJKHLb7Ky2mSzAUC3IomNU2NkQjhl-UzbH235vbF_OjB9n5rJXsgEcSeJyQ0_293_x9rZkn7c_2ucBWB45JOirWUX3s4ZVA8F9eyXTJT9vr0WFerdy2ITgwZGd35gl_euFtY5VN4gzUsg18T9uRm-8E-JPKPszesEm01syXsh5GmhSSsR-WsaUQJak8rpCG-1_5tYmJVu47-2knWk2dvpn0DFvmE5sW_d8PVhoKhvsBWk8tYAxW3gZoIQwG0BAXiAlkk7RWcJE_u1MjTgvm71-93xtIvnwQEoVwj409LvMDvAKXmSXN8ezVngPop0OJQcWoTxYlIDv3I5saQIqFkEBqiX7QVKKdS6ms_AYLdIn0uAqLKNkgZxl4RPWEP4kFzRy6QzhyOEJuKzVTbYi2-LLnHDcTx42yn2KodkCCbg_Ru96twDSluMK2P-YKrv0N3tZjCdRhbcID_dTrpudknWBZ6fszdg3qopVQDj5dMdDzGw9gzrD2tjXNqejxxf---6PTH20c7I9Mv6Q9YCQzdwITDNSfdf2ysFrb0p1jwNqz-zmdtd7nA7ehrCW9ou5JN63G954FOaQ_L5S6-0RvgLkOhkP7sIgkt5Ap2tLWMWwcCcCReXfu1vp667vU-BN95SkrW9kC3l_qMMQJDYxR_9LvrYfr0q92NgINCK6iliCPgjkFXTwKDQZw4jCPcLmjJhpoE_Tn2oGeqGfYnPq-uXIR4wpcxOfrPvG3tgfgvO95Mt_8dF2oE98oua_RMCeDi1KtZ4ndO3s2VHB7uoByUrIhoXqHqzC96lG6tjf-L2KlhoRFXIREcirttQmUwTUU4YcnbStefBAJ_xxO7Ae76TQs_nQMRuYK18R0TaWu-WuliHe6hoI4EikBn6sd9QT7-zUcIZwACU2A25Bm4NofnaamW9s4Z0ReZgC0_jfyJef68e56coeemt_vkbUZ7xUldbsDl8tdpB31bE6PYjGEuIycFjdFtZTssyz9lxRp7iRnfM0kq0Jd4rLlBIe11pSmL4RrWVuTtJ1oa6nNMPlUTpXXgy5RIs5AuR8CKcFg9AYRfp-PTHrwjc61rqf21kXR299xlKkyuSqIGhPkRMUAO1FyBzSmyZ0R7pTTkymjlPhFMaeSG2b2tUHfbeIVEXpQL56Lp5_6cTjDgF5__-Z6IAo048iV5zsgYB3ke-IsNXsIfwBDqpTsuricwxRwmmvB1aTh40wpec727e9WaqjoA2-WJ7Z8wIUDxAcyRsPX67nRjW8NB-Oh38C3Of45MfLqzVAn4MUQhkN4H5bLpNvXSUbsSXsWiFUA1ZZIME5YdIbNJmt9X1pb251XMLuD8BJVLj5qAIdEX1H4678Suh7v0XJUSec2TnUTpX2Q36VaQPfwVXyTVPjVVXK0fGpFlADAclzS5BSSM5fhEeRphJnliT_B5Pm1fZSbdeVUtfIR846dYUhiEBOg1bnMt8pSPE1ggJcVsDN0A-rHb75qNSkleW-DfqbING1VKhKOEbUglaxmltvdx_JRwGc8zhuFiLCzY3pXBwSrye5i2S-l-FVSg8dXfrUwiwGT21MOOug\">\n",
            "        </form>\n",
            "    </div>\n",
            "</div>\n",
            "<script>\n",
            "    (function(){\n",
            "        window._cf_chl_opt={\n",
            "            cvId: '2',\n",
            "            cZone: 'www.datacamp.com',\n",
            "            cType: 'non-interactive',\n",
            "            cNounce: '44422',\n",
            "            cRay: '7a8e329f5fb82324',\n",
            "            cHash: '93fefedb781e620',\n",
            "            cUPMDTk: \"\\/teach\\/documentation?__cf_chl_tk=qxLkmFCk4QzbfFTOZYBTkfilZlgtMcR25Od9_iN7IVI-1678982307-0-gaNycGzNCZA\",\n",
            "            cFPWv: 'g',\n",
            "            cTTimeMs: '1000',\n",
            "            cMTimeMs: '60000',\n",
            "            cTplV: 4,\n",
            "            cTplB: 'cf',\n",
            "            cK: \"\",\n",
            "            cRq: {\n",
            "                ru: 'aHR0cHM6Ly93d3cuZGF0YWNhbXAuY29tL3RlYWNoL2RvY3VtZW50YXRpb24=',\n",
            "                ra: 'cHl0aG9uLXJlcXVlc3RzLzIuMjUuMQ==',\n",
            "                rm: 'R0VU',\n",
            "                d: 'ZN9ay6yyuW5bFLbzW9M8fhHImzWq2R2qlTbkzE3GhKoQ7EE4oA9jGz9WhIk77ABBxItfpvID7Xv+CgHzK/lVt5wIrKV8pTLBkG6IwwXLXIhxiepK0qzPiddPl8aFurbmL4dGf7Yw6xUEcC1BfrdS4McD1gklxafPvOm1+SvMxtHiOdIg4x2reEI6gIlAdKEAetUtaRQE8dS7Qhl7FLsDktPtty58lBMp7/gq+6+/ZzuJOQmZWg0XAobefhDNrgbHdvcwuHeHcuVbmjqCigSdtvf8MU7Q341aOBKfiNeqLt69bdbredzLvBTMzYvhQ3jYX1FFfZNsxqIjhhl0hY9RQXTWnQ6Mlh71qnmOltzeLxpwkQapTMElMlNIWdd0lG5PfwtkCdYdlSv6pDqnE/pGMNH327CGLniRTMnHTwF28pZIfZUCvS1jt9iBDsRPIh3MGElM7fXgbvKGK/iGb9lwyhlhjgBTXyuG+IMczI794NUhAeJVdhbnAb9PvCV0XfcNrgMPs6kTmp1lL0liz+WHib0F+6zU+HOpjONzrl79pg8+OUuIru2/QmTO70DPFsf3+ONsbVt1eCH/b62prvYHw7yFKQctgmxDMQHedlJjQTVaEW3gt8cDxfLHcqsQ4VSAi4u3Tb5LNHoSNyyeXQEv2aSyHkTptEzzLzjxfBuT1Ejn4Ul/fdQgNIK5P4zPpVR03AVKhg8T/h0WLIXvb5+66A==',\n",
            "                t: 'MTY3ODk4MjMwNy43NDYwMDA=',\n",
            "                m: 'audpuuzL8/m/5peE5CO2mEoGgkiM5P4tjWym+Rsjpe8=',\n",
            "                i1: 'E7kW919PyaF6cKMh7sauLw==',\n",
            "                i2: '9M2DlrrN6Of3NMFN6xKQ7g==',\n",
            "                zh: 'hzfiqo9hugT9sHeHQ1zy81NCL/S0295H0+GuRnkSV9o=',\n",
            "                uh: '5GU+jYv2xJ+bCaE/ARmi/DORbiS/v56CW7E0TH4XWQk=',\n",
            "                hh: 'rAZnIHiyrNuZ60h9aAZNML8izDilqmOSNuCtac1WqPs=',\n",
            "            }\n",
            "        };\n",
            "        var trkjs = document.createElement('img');\n",
            "        trkjs.setAttribute('src', '/cdn-cgi/images/trace/jsch/js/transparent.gif?ray=7a8e329f5fb82324');\n",
            "        trkjs.setAttribute('alt', '');\n",
            "        trkjs.setAttribute('style', 'display: none');\n",
            "        document.body.appendChild(trkjs);\n",
            "        var cpo = document.createElement('script');\n",
            "        cpo.src = '/cdn-cgi/challenge-platform/h/g/orchestrate/jsch/v1?ray=7a8e329f5fb82324';\n",
            "        window._cf_chl_opt.cOgUHash = location.hash === '' && location.href.indexOf('#') !== -1 ? '#' : location.hash;\n",
            "        window._cf_chl_opt.cOgUQuery = location.search === '' && location.href.slice(0, location.href.length - window._cf_chl_opt.cOgUHash.length).indexOf('?') !== -1 ? '?' : location.search;\n",
            "        if (window.history && window.history.replaceState) {\n",
            "            var ogU = location.pathname + window._cf_chl_opt.cOgUQuery + window._cf_chl_opt.cOgUHash;\n",
            "            history.replaceState(null, null, \"\\/teach\\/documentation?__cf_chl_rt_tk=qxLkmFCk4QzbfFTOZYBTkfilZlgtMcR25Od9_iN7IVI-1678982307-0-gaNycGzNCZA\" + window._cf_chl_opt.cOgUHash);\n",
            "            cpo.onload = function() {\n",
            "                history.replaceState(null, null, ogU);\n",
            "            };\n",
            "        }\n",
            "        document.getElementsByTagName('head')[0].appendChild(cpo);\n",
            "    }());\n",
            "</script>\n",
            "\n",
            "\n",
            "    <div class=\"footer\" role=\"contentinfo\">\n",
            "        <div class=\"footer-inner\">\n",
            "            <div class=\"clearfix diagnostic-wrapper\">\n",
            "                <div class=\"ray-id\">Ray ID: <code>7a8e329f5fb82324</code></div>\n",
            "            </div>\n",
            "            <div class=\"text-center\" id=\"footer-text\">Performance &amp; security by <a rel=\"noopener noreferrer\" href=\"https://www.cloudflare.com?utm_source=challenge&utm_campaign=j\" target=\"_blank\">Cloudflare</a></div>\n",
            "        </div>\n",
            "    </div>\n",
            "</body>\n",
            "</html>\n",
            "\n"
          ]
        }
      ]
    },
    {
      "cell_type": "markdown",
      "source": [
        "# **Web Scraping**\n",
        "\n",
        "\n",
        "---\n",
        "\n"
      ],
      "metadata": {
        "id": "LjTfs-LsKdNg"
      }
    },
    {
      "cell_type": "markdown",
      "source": [
        "## We can use the BeautifulSoup package to parse, prettify and extract information from HTML."
      ],
      "metadata": {
        "id": "PNu-fTWUJ_Fb"
      }
    },
    {
      "cell_type": "markdown",
      "source": [
        "**Parsing HTML with BeautifulSoup**"
      ],
      "metadata": {
        "id": "eyzHKmJ0LA5U"
      }
    },
    {
      "cell_type": "markdown",
      "source": [
        "prettify() is a method in the BeautifulSoup library that can be used to transform a complex HTML document into a more readable format. It adds newlines and indentation to the document structure, making it easier to read and understand. It is often used for debugging and testing purposes, as well as for generating well-formatted output for display or storage. By calling prettify() on a BeautifulSoup object, you can get a more readable representation of the HTML code."
      ],
      "metadata": {
        "id": "niK-ZBPHQV-5"
      }
    },
    {
      "cell_type": "code",
      "source": [
        "import requests as rqst\n",
        "from bs4 import BeautifulSoup as bfs\n",
        "\n",
        "url = 'https://www.python.org/~guido/'\n",
        "\n",
        "# Package the request, send the request and catch the response\n",
        "r = rqst.get(url)\n",
        "\n",
        "# Extracts the response as html\n",
        "html_doc = r.text\n",
        "\n",
        "# Create a BeautifulSoup object from the HTML\n",
        "soup = bfs(html_doc)\n",
        "\n",
        "# Prettify the BeautifulSoup object\n",
        "pretty_soup=soup.prettify()\n",
        "print(pretty_soup)"
      ],
      "metadata": {
        "colab": {
          "base_uri": "https://localhost:8080/"
        },
        "id": "fIYT8fNmKD-g",
        "outputId": "1b0f1e9a-8e53-47c9-89af-e873be4d997d"
      },
      "execution_count": 17,
      "outputs": [
        {
          "output_type": "stream",
          "name": "stdout",
          "text": [
            "<html>\n",
            " <head>\n",
            "  <title>\n",
            "   Guido's Personal Home Page\n",
            "  </title>\n",
            " </head>\n",
            " <body bgcolor=\"#FFFFFF\" text=\"#000000\">\n",
            "  <!-- Built from main -->\n",
            "  <h1>\n",
            "   <a href=\"pics.html\">\n",
            "    <img border=\"0\" src=\"images/IMG_2192.jpg\"/>\n",
            "   </a>\n",
            "   Guido van Rossum - Personal Home Page\n",
            "   <a href=\"pics.html\">\n",
            "    <img border=\"0\" height=\"216\" src=\"images/guido-headshot-2019.jpg\" width=\"270\"/>\n",
            "   </a>\n",
            "  </h1>\n",
            "  <p>\n",
            "   <a href=\"http://www.washingtonpost.com/wp-srv/business/longterm/microsoft/stories/1998/raymond120398.htm\">\n",
            "    <i>\n",
            "     \"Gawky and proud of it.\"\n",
            "    </i>\n",
            "   </a>\n",
            "  </p>\n",
            "  <h3>\n",
            "   <a href=\"images/df20000406.jpg\">\n",
            "    Who I Am\n",
            "   </a>\n",
            "  </h3>\n",
            "  <p>\n",
            "   Read\n",
            "my\n",
            "   <a href=\"http://neopythonic.blogspot.com/2016/04/kings-day-speech.html\">\n",
            "    \"King's\n",
            "Day Speech\"\n",
            "   </a>\n",
            "   for some inspiration.\n",
            "  </p>\n",
            "  <p>\n",
            "   I am the author of the\n",
            "   <a href=\"http://www.python.org\">\n",
            "    Python\n",
            "   </a>\n",
            "   programming language.  See also my\n",
            "   <a href=\"Resume.html\">\n",
            "    resume\n",
            "   </a>\n",
            "   and my\n",
            "   <a href=\"Publications.html\">\n",
            "    publications list\n",
            "   </a>\n",
            "   , a\n",
            "   <a href=\"bio.html\">\n",
            "    brief bio\n",
            "   </a>\n",
            "   , assorted\n",
            "   <a href=\"http://legacy.python.org/doc/essays/\">\n",
            "    writings\n",
            "   </a>\n",
            "   ,\n",
            "   <a href=\"http://legacy.python.org/doc/essays/ppt/\">\n",
            "    presentations\n",
            "   </a>\n",
            "   and\n",
            "   <a href=\"interviews.html\">\n",
            "    interviews\n",
            "   </a>\n",
            "   (all about Python), some\n",
            "   <a href=\"pics.html\">\n",
            "    pictures of me\n",
            "   </a>\n",
            "   ,\n",
            "   <a href=\"http://neopythonic.blogspot.com\">\n",
            "    my new blog\n",
            "   </a>\n",
            "   , and\n",
            "my\n",
            "   <a href=\"http://www.artima.com/weblogs/index.jsp?blogger=12088\">\n",
            "    old\n",
            "blog\n",
            "   </a>\n",
            "   on Artima.com.  I am\n",
            "   <a href=\"https://twitter.com/gvanrossum\">\n",
            "    @gvanrossum\n",
            "   </a>\n",
            "   on Twitter.\n",
            "  </p>\n",
            "  <p>\n",
            "   I am currently a Distinguished Engineer at Microsoft.\n",
            "I have worked for Dropbox, Google, Elemental Security, Zope\n",
            "Corporation, BeOpen.com, CNRI, CWI, and SARA.  (See\n",
            "my\n",
            "   <a href=\"Resume.html\">\n",
            "    resume\n",
            "   </a>\n",
            "   .)  I created Python while at CWI.\n",
            "  </p>\n",
            "  <h3>\n",
            "   How to Reach Me\n",
            "  </h3>\n",
            "  <p>\n",
            "   You can send email for me to guido (at) python.org.\n",
            "I read everything sent there, but I receive too much email to respond\n",
            "to everything.\n",
            "  </p>\n",
            "  <h3>\n",
            "   My Name\n",
            "  </h3>\n",
            "  <p>\n",
            "   My name often poses difficulties for Americans.\n",
            "  </p>\n",
            "  <p>\n",
            "   <b>\n",
            "    Pronunciation:\n",
            "   </b>\n",
            "   in Dutch, the \"G\" in Guido is a hard G,\n",
            "pronounced roughly like the \"ch\" in Scottish \"loch\".  (Listen to the\n",
            "   <a href=\"guido.au\">\n",
            "    sound clip\n",
            "   </a>\n",
            "   .)  However, if you're\n",
            "American, you may also pronounce it as the Italian \"Guido\".  I'm not\n",
            "too worried about the associations with mob assassins that some people\n",
            "have. :-)\n",
            "  </p>\n",
            "  <p>\n",
            "   <b>\n",
            "    Spelling:\n",
            "   </b>\n",
            "   my last name is two words, and I'd like to keep it\n",
            "that way, the spelling on some of my credit cards notwithstanding.\n",
            "Dutch spelling rules dictate that when used in combination with my\n",
            "first name, \"van\" is not capitalized: \"Guido van Rossum\".  But when my\n",
            "last name is used alone to refer to me, it is capitalized, for\n",
            "example: \"As usual, Van Rossum was right.\"\n",
            "  </p>\n",
            "  <p>\n",
            "   <b>\n",
            "    Alphabetization:\n",
            "   </b>\n",
            "   in America, I show up in the alphabet under\n",
            "\"V\".  But in Europe, I show up under \"R\".  And some of my friends put\n",
            "me under \"G\" in their address book...\n",
            "  </p>\n",
            "  <h3>\n",
            "   More Hyperlinks\n",
            "  </h3>\n",
            "  <ul>\n",
            "   <li>\n",
            "    Here's a collection of\n",
            "    <a href=\"http://legacy.python.org/doc/essays/\">\n",
            "     essays\n",
            "    </a>\n",
            "    relating to Python\n",
            "that I've written, including the foreword I wrote for Mark Lutz' book\n",
            "\"Programming Python\".\n",
            "    <p>\n",
            "    </p>\n",
            "   </li>\n",
            "   <li>\n",
            "    I own the official\n",
            "    <a href=\"images/license.jpg\">\n",
            "     <img align=\"center\" border=\"0\" height=\"75\" src=\"images/license_thumb.jpg\" width=\"100\"/>\n",
            "     Python license.\n",
            "    </a>\n",
            "    <p>\n",
            "    </p>\n",
            "   </li>\n",
            "  </ul>\n",
            "  <h3>\n",
            "   The Audio File Formats FAQ\n",
            "  </h3>\n",
            "  <p>\n",
            "   I was the original creator and maintainer of the Audio File Formats\n",
            "FAQ.  It is now maintained by Chris Bagwell\n",
            "at\n",
            "   <a href=\"http://www.cnpbagwell.com/audio-faq\">\n",
            "    http://www.cnpbagwell.com/audio-faq\n",
            "   </a>\n",
            "   .  And here is a link to\n",
            "   <a href=\"http://sox.sourceforge.net/\">\n",
            "    SOX\n",
            "   </a>\n",
            "   , to which I contributed\n",
            "some early code.\n",
            "  </p>\n",
            "  <hr/>\n",
            "  <a href=\"images/internetdog.gif\">\n",
            "   \"On the Internet, nobody knows you're\n",
            "a dog.\"\n",
            "  </a>\n",
            "  <hr/>\n",
            " </body>\n",
            "</html>\n"
          ]
        }
      ]
    },
    {
      "cell_type": "markdown",
      "source": [
        "# **Turning a webpage into data using BeautifulSoup: getting the text**\n",
        "\n",
        "\n",
        "---\n",
        "\n",
        "Here, we will convert our html code to text"
      ],
      "metadata": {
        "id": "m8BAP8l6QuWy"
      }
    },
    {
      "cell_type": "markdown",
      "source": [
        "**Get the title of Guido's webpage**"
      ],
      "metadata": {
        "id": "BKB8IlVwQ4yH"
      }
    },
    {
      "cell_type": "code",
      "source": [
        "guido_title=soup.title\n",
        "guido_title"
      ],
      "metadata": {
        "colab": {
          "base_uri": "https://localhost:8080/"
        },
        "id": "zSBdHrQsQwSo",
        "outputId": "c539ba26-c4db-4a07-9bc6-837be4146161"
      },
      "execution_count": 18,
      "outputs": [
        {
          "output_type": "execute_result",
          "data": {
            "text/plain": [
              "<title>Guido's Personal Home Page</title>"
            ]
          },
          "metadata": {},
          "execution_count": 18
        }
      ]
    },
    {
      "cell_type": "markdown",
      "source": [
        "**Get Guido's text (body)**"
      ],
      "metadata": {
        "id": "T0DGg2N9Q90K"
      }
    },
    {
      "cell_type": "code",
      "source": [
        "guido_text=soup.get_text()\n",
        "guido_text"
      ],
      "metadata": {
        "colab": {
          "base_uri": "https://localhost:8080/",
          "height": 265
        },
        "id": "9ujJ-BPSRdll",
        "outputId": "613bcc2e-db6c-4580-e162-52d02c463583"
      },
      "execution_count": 19,
      "outputs": [
        {
          "output_type": "execute_result",
          "data": {
            "text/plain": [
              "'\\n\\nGuido\\'s Personal Home Page\\n\\n\\n\\n\\n\\nGuido van Rossum - Personal Home Page\\n\\n\\n\"Gawky and proud of it.\"\\nWho I Am\\nRead\\nmy \"King\\'s\\nDay Speech\" for some inspiration.\\n\\nI am the author of the Python\\nprogramming language.  See also my resume\\nand my publications list, a brief bio, assorted writings, presentations and interviews (all about Python), some\\npictures of me,\\nmy new blog, and\\nmy old\\nblog on Artima.com.  I am\\n@gvanrossum on Twitter.\\n\\nI am currently a Distinguished Engineer at Microsoft.\\nI have worked for Dropbox, Google, Elemental Security, Zope\\nCorporation, BeOpen.com, CNRI, CWI, and SARA.  (See\\nmy resume.)  I created Python while at CWI.\\n\\nHow to Reach Me\\nYou can send email for me to guido (at) python.org.\\nI read everything sent there, but I receive too much email to respond\\nto everything.\\n\\nMy Name\\nMy name often poses difficulties for Americans.\\n\\nPronunciation: in Dutch, the \"G\" in Guido is a hard G,\\npronounced roughly like the \"ch\" in Scottish \"loch\".  (Listen to the\\nsound clip.)  However, if you\\'re\\nAmerican, you may also pronounce it as the Italian \"Guido\".  I\\'m not\\ntoo worried about the associations with mob assassins that some people\\nhave. :-)\\n\\nSpelling: my last name is two words, and I\\'d like to keep it\\nthat way, the spelling on some of my credit cards notwithstanding.\\nDutch spelling rules dictate that when used in combination with my\\nfirst name, \"van\" is not capitalized: \"Guido van Rossum\".  But when my\\nlast name is used alone to refer to me, it is capitalized, for\\nexample: \"As usual, Van Rossum was right.\"\\n\\nAlphabetization: in America, I show up in the alphabet under\\n\"V\".  But in Europe, I show up under \"R\".  And some of my friends put\\nme under \"G\" in their address book...\\n\\n\\nMore Hyperlinks\\n\\nHere\\'s a collection of essays relating to Python\\nthat I\\'ve written, including the foreword I wrote for Mark Lutz\\' book\\n\"Programming Python\".\\nI own the official \\nPython license.\\n\\nThe Audio File Formats FAQ\\nI was the original creator and maintainer of the Audio File Formats\\nFAQ.  It is now maintained by Chris Bagwell\\nat http://www.cnpbagwell.com/audio-faq.  And here is a link to\\nSOX, to which I contributed\\nsome early code.\\n\\n\\n\\n\\n\"On the Internet, nobody knows you\\'re\\na dog.\"\\n\\n\\n'"
            ],
            "application/vnd.google.colaboratory.intrinsic+json": {
              "type": "string"
            }
          },
          "metadata": {},
          "execution_count": 19
        }
      ]
    },
    {
      "cell_type": "markdown",
      "source": [
        "# **Turning a webpage into data using BeautifulSoup: getting the hyperlinks**\n",
        "\n",
        "\n",
        "---\n",
        "we'll figure out how to extract the URLs of the hyperlinks from the webpage. In the process, we'll become close friends with the soup method `find_all()`.\n"
      ],
      "metadata": {
        "id": "TJ4TlZLcRwxT"
      }
    },
    {
      "cell_type": "markdown",
      "source": [
        "Use the method `find_all()` to find all hyperlinks in soup, remembering that hyperlinks are defined by the HTML tag `<a>` but passed to `find_all()` without angle brackets; store the result in the variable a_tags"
      ],
      "metadata": {
        "id": "2KjAfiTaSKl1"
      }
    },
    {
      "cell_type": "code",
      "source": [
        "# Find all 'a' tags (which define hyperlinks)\n",
        "a_tags=soup.find_all('a')"
      ],
      "metadata": {
        "id": "WfCB2dF1SAfX"
      },
      "execution_count": 21,
      "outputs": []
    },
    {
      "cell_type": "markdown",
      "source": [
        "The variable a_tags is a results set: your job now is to enumerate over it, using a for loop and to print the actual URLs of the hyperlinks; to do this, for every element link in a_tags, you want to `print()` `link.get('href')`."
      ],
      "metadata": {
        "id": "0G_dqAPDSio2"
      }
    },
    {
      "cell_type": "code",
      "source": [
        "for link in a_tags:\n",
        "    print(link.get('href'))"
      ],
      "metadata": {
        "colab": {
          "base_uri": "https://localhost:8080/"
        },
        "id": "pONr0ms3SjSO",
        "outputId": "36f330af-bdeb-495f-c25e-3f4078e2801f"
      },
      "execution_count": 22,
      "outputs": [
        {
          "output_type": "stream",
          "name": "stdout",
          "text": [
            "pics.html\n",
            "pics.html\n",
            "http://www.washingtonpost.com/wp-srv/business/longterm/microsoft/stories/1998/raymond120398.htm\n",
            "images/df20000406.jpg\n",
            "http://neopythonic.blogspot.com/2016/04/kings-day-speech.html\n",
            "http://www.python.org\n",
            "Resume.html\n",
            "Publications.html\n",
            "bio.html\n",
            "http://legacy.python.org/doc/essays/\n",
            "http://legacy.python.org/doc/essays/ppt/\n",
            "interviews.html\n",
            "pics.html\n",
            "http://neopythonic.blogspot.com\n",
            "http://www.artima.com/weblogs/index.jsp?blogger=12088\n",
            "https://twitter.com/gvanrossum\n",
            "Resume.html\n",
            "guido.au\n",
            "http://legacy.python.org/doc/essays/\n",
            "images/license.jpg\n",
            "http://www.cnpbagwell.com/audio-faq\n",
            "http://sox.sourceforge.net/\n",
            "images/internetdog.gif\n"
          ]
        }
      ]
    },
    {
      "cell_type": "markdown",
      "source": [
        "So, in this way, we can find all hyperlinks of the text."
      ],
      "metadata": {
        "id": "H1nxUCwiS150"
      }
    }
  ]
}